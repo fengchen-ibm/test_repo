{
  "metadata": {
    "kernelspec": {
      "name": "python",
      "display_name": "Python (Pyodide)",
      "language": "python"
    },
    "language_info": {
      "codemirror_mode": {
        "name": "python",
        "version": 3
      },
      "file_extension": ".py",
      "mimetype": "text/x-python",
      "name": "python",
      "nbconvert_exporter": "python",
      "pygments_lexer": "ipython3",
      "version": "3.8"
    }
  },
  "nbformat_minor": 5,
  "nbformat": 4,
  "cells": [
    {
      "id": "97f16ddf-0fce-40c1-9a30-fcab29abd867",
      "cell_type": "markdown",
      "source": "# Data Science Tools and Ecosystem",
      "metadata": {}
    },
    {
      "id": "f791b65d-b21d-4379-a5bd-6c20f353ab60",
      "cell_type": "markdown",
      "source": "In this notebook, Data Science Tools and Ecosystem are summarized.",
      "metadata": {}
    },
    {
      "id": "fdd339e4-c7ed-4a2c-8ef5-e26b1f7c4db3",
      "cell_type": "markdown",
      "source": "Some of the popular languages that Data Scientists use are:\n[1] Python\n[2] R\n[3] Stata",
      "metadata": {}
    },
    {
      "id": "6850fef1-182f-42a3-a09a-ae7c4ec22e5a",
      "cell_type": "markdown",
      "source": "Some of the commonly used libraries used by Data Scientists include:\n[1] Pandas\n[2] NumPy\n[3] PyTorch\n",
      "metadata": {}
    },
    {
      "id": "26cf6838-d3cc-4c0e-9ae4-0a92042d3b26",
      "cell_type": "markdown",
      "source": "| Data Science Tools          |\n|-----------------------------|\n| Jupyter Notebook            |\n| RStudio                     |\n| Visual Studio Code (VS Code)|",
      "metadata": {}
    },
    {
      "id": "9ee66036-193e-498b-b8ce-791ee81a99bf",
      "cell_type": "markdown",
      "source": "### Below are a few examples of evaluating arithmetic expressions in Python.",
      "metadata": {}
    },
    {
      "id": "c1c99552-d8c1-4d9f-867a-214f3a924450",
      "cell_type": "code",
      "source": "# This is a simple arithmetic expression to multiply then add integers\nresult = (3 * 4) + 5\nprint(result)",
      "metadata": {
        "trusted": true
      },
      "outputs": [
        {
          "name": "stdout",
          "text": "17\n",
          "output_type": "stream"
        }
      ],
      "execution_count": 1
    },
    {
      "id": "44ef3136-48d3-49fa-8c8c-1776d45da7e3",
      "cell_type": "code",
      "source": "# This will convert 200 minutes to hours by dividing by 60\nhours = 200 / 60\nprint(hours)",
      "metadata": {
        "trusted": true
      },
      "outputs": [
        {
          "name": "stdout",
          "text": "3.3333333333333335\n",
          "output_type": "stream"
        }
      ],
      "execution_count": 2
    },
    {
      "id": "6bc4fbc2-6c06-47ab-b643-ad3ce065af10",
      "cell_type": "markdown",
      "source": "**Objectives:**\n\n- List popular languages for Data Science.  \n- Introduce commonly used libraries in Python for Data Science.  \n- Demonstrate arithmetic expressions in Python.  \n- Convert time units using Python expressions.  \n- Explore open-source tools for Data Science development.  ",
      "metadata": {}
    },
    {
      "id": "2a3fa1c3-f3ae-4cc1-b324-f523502ba5f0",
      "cell_type": "markdown",
      "source": "## Author  \nFC Wang",
      "metadata": {}
    }
  ]
}